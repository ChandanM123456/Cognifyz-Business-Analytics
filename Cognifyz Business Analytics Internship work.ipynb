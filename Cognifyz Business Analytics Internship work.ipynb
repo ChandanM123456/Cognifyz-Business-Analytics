{
 "cells": [
  {
   "cell_type": "code",
   "execution_count": 42,
   "id": "e8232b2a-08d6-4800-a4b1-dab52c5fcedf",
   "metadata": {
    "scrolled": true
   },
   "outputs": [
    {
     "name": "stdout",
     "output_type": "stream",
     "text": [
      "Dataset Info:\n",
      "<class 'pandas.core.frame.DataFrame'>\n",
      "RangeIndex: 40 entries, 0 to 39\n",
      "Data columns (total 24 columns):\n",
      " #   Column                             Non-Null Count  Dtype \n",
      "---  ------                             --------------  ----- \n",
      " 0   gender                             40 non-null     object\n",
      " 1   age                                40 non-null     int64 \n",
      " 2   Investment_Avenues                 40 non-null     object\n",
      " 3   Mutual_Funds                       40 non-null     int64 \n",
      " 4   Equity_Market                      40 non-null     int64 \n",
      " 5   Debentures                         40 non-null     int64 \n",
      " 6   Government_Bonds                   40 non-null     int64 \n",
      " 7   Fixed_Deposits                     40 non-null     int64 \n",
      " 8   PPF                                40 non-null     int64 \n",
      " 9   Gold                               40 non-null     int64 \n",
      " 10  Stock_Marktet                      40 non-null     object\n",
      " 11  Factor                             40 non-null     object\n",
      " 12  Objective                          40 non-null     object\n",
      " 13  Purpose                            40 non-null     object\n",
      " 14  Duration                           40 non-null     object\n",
      " 15  Invest_Monitor                     40 non-null     object\n",
      " 16  Expect                             40 non-null     object\n",
      " 17  Avenue                             40 non-null     object\n",
      " 18  What are your savings objectives?  40 non-null     object\n",
      " 19  Reason_Equity                      40 non-null     object\n",
      " 20  Reason_Mutual                      40 non-null     object\n",
      " 21  Reason_Bonds                       40 non-null     object\n",
      " 22  Reason_FD                          40 non-null     object\n",
      " 23  Source                             40 non-null     object\n",
      "dtypes: int64(8), object(16)\n",
      "memory usage: 7.6+ KB\n",
      "\n",
      "First 5 Rows:\n",
      "   gender  age Investment_Avenues  Mutual_Funds  Equity_Market  Debentures  \\\n",
      "0  Female   34                Yes             1              2           5   \n",
      "1  Female   23                Yes             4              3           2   \n",
      "2    Male   30                Yes             3              6           4   \n",
      "3    Male   22                Yes             2              1           3   \n",
      "4  Female   24                 No             2              1           3   \n",
      "\n",
      "   Government_Bonds  Fixed_Deposits  PPF  Gold  ...           Duration  \\\n",
      "0                 3               7    6     4  ...          1-3 years   \n",
      "1                 1               5    6     7  ...  More than 5 years   \n",
      "2                 2               5    1     7  ...          3-5 years   \n",
      "3                 7               6    4     5  ...   Less than 1 year   \n",
      "4                 6               4    5     7  ...   Less than 1 year   \n",
      "\n",
      "  Invest_Monitor   Expect       Avenue What are your savings objectives?  \\\n",
      "0        Monthly  20%-30%  Mutual Fund                   Retirement Plan   \n",
      "1         Weekly  20%-30%  Mutual Fund                       Health Care   \n",
      "2          Daily  20%-30%       Equity                   Retirement Plan   \n",
      "3          Daily  10%-20%       Equity                   Retirement Plan   \n",
      "4          Daily  20%-30%       Equity                   Retirement Plan   \n",
      "\n",
      "          Reason_Equity         Reason_Mutual     Reason_Bonds  \\\n",
      "0  Capital Appreciation        Better Returns  Safe Investment   \n",
      "1              Dividend        Better Returns  Safe Investment   \n",
      "2  Capital Appreciation          Tax Benefits  Assured Returns   \n",
      "3              Dividend  Fund Diversification   Tax Incentives   \n",
      "4  Capital Appreciation        Better Returns  Safe Investment   \n",
      "\n",
      "             Reason_FD                    Source  \n",
      "0        Fixed Returns  Newspapers and Magazines  \n",
      "1  High Interest Rates     Financial Consultants  \n",
      "2        Fixed Returns                Television  \n",
      "3  High Interest Rates                  Internet  \n",
      "4            Risk Free                  Internet  \n",
      "\n",
      "[5 rows x 24 columns]\n",
      "\n",
      "Descriptive Statistics:\n",
      "             age  Mutual_Funds  Equity_Market  Debentures  Government_Bonds  \\\n",
      "count  40.000000     40.000000      40.000000   40.000000         40.000000   \n",
      "mean   27.800000      2.550000       3.475000    5.750000          4.650000   \n",
      "std     3.560467      1.197219       1.131994    1.675617          1.369072   \n",
      "min    21.000000      1.000000       1.000000    1.000000          1.000000   \n",
      "25%    25.750000      2.000000       3.000000    5.000000          4.000000   \n",
      "50%    27.000000      2.000000       4.000000    6.500000          5.000000   \n",
      "75%    30.000000      3.000000       4.000000    7.000000          5.000000   \n",
      "max    35.000000      7.000000       6.000000    7.000000          7.000000   \n",
      "\n",
      "       Fixed_Deposits        PPF       Gold  \n",
      "count       40.000000  40.000000  40.000000  \n",
      "mean         3.575000   2.025000   5.975000  \n",
      "std          1.795828   1.609069   1.143263  \n",
      "min          1.000000   1.000000   2.000000  \n",
      "25%          2.750000   1.000000   6.000000  \n",
      "50%          3.500000   1.000000   6.000000  \n",
      "75%          5.000000   2.250000   7.000000  \n",
      "max          7.000000   6.000000   7.000000  \n"
     ]
    }
   ],
   "source": [
    "##Loading the dataset into the Python tool for analyzing the dataset and using Descriptive Statistical Function to gather specific information\n",
    "import pandas as pd\n",
    "file_path = r\"C:\\Users\\DELL\\Desktop\\business analytic internship cognifyz\\Data_set 2 - Copy.csv\"\n",
    "df = pd.read_csv(file_path)\n",
    "print(\"Dataset Info:\")\n",
    "df.info()\n",
    "print(\"\\nFirst 5 Rows:\")\n",
    "print(df.head())\n",
    "print(\"\\nDescriptive Statistics:\")\n",
    "print(df.describe())"
   ]
  },
  {
   "cell_type": "code",
   "execution_count": 43,
   "id": "6fd34059-6ba8-4278-8126-640ddbad0ae6",
   "metadata": {},
   "outputs": [
    {
     "name": "stdout",
     "output_type": "stream",
     "text": [
      "\n",
      "Gender Column:\n",
      "gender\n",
      "Male      25\n",
      "Female    15\n",
      "Name: count, dtype: int64\n"
     ]
    },
    {
     "data": {
      "image/png": "[encoded data removed]",
      "text/plain": [
       "<Figure size 600x400 with 1 Axes>"
      ]
     },
     "metadata": {},
     "output_type": "display_data"
    }
   ],
   "source": [
    "##Visualizing the gender distribution in the dataset\n",
    "import pandas as pd\n",
    "import matplotlib.pyplot as plt\n",
    "import seaborn as sns\n",
    "print(\"\\nGender Column:\")\n",
    "print(df['gender'].value_counts())\n",
    "plt.figure(figsize=(6,4))\n",
    "sns.countplot(x='gender', data=df,color='skyblue')\n",
    "plt.title(\"Gender Distribution In The Dataset\")\n",
    "plt.xlabel(\"Gender\")\n",
    "plt.ylabel(\"Count(no of male or female)\")\n",
    "plt.show()"
   ]
  },
  {
   "cell_type": "code",
   "execution_count": 44,
   "id": "0c0def5b-e373-4f19-8618-c505bdbb4c4f",
   "metadata": {},
   "outputs": [
    {
     "name": "stdout",
     "output_type": "stream",
     "text": [
      "\n",
      "Descriptive Statistics for Numerical Columns:\n",
      "              age  Mutual_Funds  Equity_Market  Debentures  Government_Bonds  \\\n",
      "mean    27.800000      2.550000       3.475000    5.750000          4.650000   \n",
      "median  27.000000      2.000000       4.000000    6.500000          5.000000   \n",
      "std      3.560467      1.197219       1.131994    1.675617          1.369072   \n",
      "\n",
      "        Fixed_Deposits       PPF      Gold  \n",
      "mean          3.575000  2.025000  5.975000  \n",
      "median        3.500000  1.000000  6.000000  \n",
      "std           1.795828  1.609069  1.143263  \n"
     ]
    }
   ],
   "source": [
    "## Getting the numerical data from the columns where numbers are used and computing Descriptive statistics for the numerical columns\n",
    "numerical_columns = df.select_dtypes(include=['int64', 'float64']).columns\n",
    "statistics = df[numerical_columns].agg(['mean', 'median', 'std'])\n",
    "print(\"\\nDescriptive Statistics for Numerical Columns:\")\n",
    "print(statistics)"
   ]
  },
  {
   "cell_type": "code",
   "execution_count": 45,
   "id": "2505f546-98a4-480f-9b2e-e77b7e9d5ac5",
   "metadata": {},
   "outputs": [
    {
     "name": "stdout",
     "output_type": "stream",
     "text": [
      "\n",
      "Most Preferred Investment Avenue: Yes\n"
     ]
    }
   ],
   "source": [
    "###Identify the most preferred investment avenue\n",
    "most_preferred_avenue = df['Investment_Avenues'].mode()[0]\n",
    "print(\"\\nMost Preferred Investment Avenue:\", most_preferred_avenue)"
   ]
  },
  {
   "cell_type": "code",
   "execution_count": 46,
   "id": "5e304ac4-2ee3-4960-a6b7-6228191bc485",
   "metadata": {},
   "outputs": [],
   "source": [
    "###Analyzing the reasons for investment choices\n",
    "reason_columns = ['Reason_Equity', 'Reason_Mutual', 'Reason_Bonds', 'Reason_FD']\n",
    "all_reasons = df[reason_columns].values.flatten()\n"
   ]
  },
  {
   "cell_type": "code",
   "execution_count": 47,
   "id": "56e411ac-c17d-4ee2-b2e2-0a96300327f2",
   "metadata": {},
   "outputs": [
    {
     "name": "stdout",
     "output_type": "stream",
     "text": [
      "\n",
      "Summary of Investment Reasons:\n",
      "Capital Appreciation    30\n",
      "Assured Returns         26\n",
      "Better Returns          24\n",
      "Risk Free               19\n",
      "Fixed Returns           18\n",
      "Safe Investment         13\n",
      "Fund Diversification    13\n",
      "Dividend                 8\n",
      "High Interest Rates      3\n",
      "Tax Benefits             3\n",
      "Liquidity                2\n",
      "Tax Incentives           1\n",
      "Name: count, dtype: int64\n"
     ]
    }
   ],
   "source": [
    "###summarizing reasons for investment choices and Counting the occurrences of each reason\n",
    "reason_counts = pd.Series(all_reasons).value_counts()\n",
    "print(\"\\nSummary of Investment Reasons:\")\n",
    "print(reason_counts)"
   ]
  },
  {
   "cell_type": "code",
   "execution_count": 48,
   "id": "43a1ef22-c64f-4d59-a93e-cb50168b0d2e",
   "metadata": {},
   "outputs": [
    {
     "name": "stdout",
     "output_type": "stream",
     "text": [
      "\n",
      "Savings Objectives:\n",
      "What are your savings objectives?\n",
      "Retirement Plan    24\n",
      "Health Care        13\n",
      "Education           3\n",
      "Name: count, dtype: int64\n"
     ]
    }
   ],
   "source": [
    "###Identifying the savings objectives and giving the count like how many of them as the same objective\n",
    "print(\"\\nSavings Objectives:\")\n",
    "savings_objectives = df['What are your savings objectives?'].value_counts()\n",
    "print(savings_objectives)"
   ]
  },
  {
   "cell_type": "code",
   "execution_count": 49,
   "id": "7527daf5-f927-46ec-995d-10e523375d48",
   "metadata": {},
   "outputs": [
    {
     "name": "stdout",
     "output_type": "stream",
     "text": [
      "\n",
      "Common Information Sources:\n",
      "Source\n",
      "Financial Consultants       16\n",
      "Newspapers and Magazines    14\n",
      "Television                   6\n",
      "Internet                     4\n",
      "Name: count, dtype: int64\n"
     ]
    }
   ],
   "source": [
    "###Analyzing common sources of investment information\n",
    "print(\"\\nCommon Information Sources:\")\n",
    "info_sources = df['Source'].value_counts()\n",
    "print(info_sources)"
   ]
  },
  {
   "cell_type": "code",
   "execution_count": 50,
   "id": "257a8e5c-692c-43a9-9d93-48fe78a33366",
   "metadata": {},
   "outputs": [
    {
     "name": "stdout",
     "output_type": "stream",
     "text": [
      "\n",
      "Average Investment Duration:\n",
      "Average Investment Duration: 2.98 years\n"
     ]
    }
   ],
   "source": [
    "### Calculating the average investment duration by using statistical approach \n",
    "print(\"\\nAverage Investment Duration:\")\n",
    "duration_mapping = {\"Less than 1 year\": 0.5, \"1-3 years\": 2, \"3-5 years\": 4, \"More than 5 years\": 6}\n",
    "df['Duration_Numeric'] = df['Duration'].map(duration_mapping)\n",
    "avg_duration = df['Duration_Numeric'].mean()\n",
    "print(f\"Average Investment Duration: {avg_duration:.2f} years\")"
   ]
  },
  {
   "cell_type": "code",
   "execution_count": 51,
   "id": "39c8405f-5a88-4a96-9420-3be2027f39c9",
   "metadata": {},
   "outputs": [
    {
     "name": "stdout",
     "output_type": "stream",
     "text": [
      "\n",
      "Investment Expectations:\n",
      "Expect\n",
      "20%-30%    32\n",
      "30%-40%     5\n",
      "10%-20%     3\n",
      "Name: count, dtype: int64\n"
     ]
    }
   ],
   "source": [
    "###Summarize participants' expectations from investments\n",
    "print(\"\\nInvestment Expectations:\")\n",
    "investment_expectations = df['Expect'].value_counts()\n",
    "print(investment_expectations)"
   ]
  },
  {
   "cell_type": "code",
   "execution_count": 52,
   "id": "f0f1b2d9-f402-4247-879d-ccaa5ef283a9",
   "metadata": {},
   "outputs": [
    {
     "name": "stdout",
     "output_type": "stream",
     "text": [
      "\n",
      "Correlation Analysis:\n",
      "                       age  Duration_Numeric\n",
      "age               1.000000          0.051756\n",
      "Duration_Numeric  0.051756          1.000000\n"
     ]
    }
   ],
   "source": [
    "###Correlation Analysis\n",
    "print(\"\\nCorrelation Analysis:\")\n",
    "correlation_columns = ['age', 'Duration_Numeric']\n",
    "correlation_matrix = df[correlation_columns].corr()\n",
    "print(correlation_matrix)"
   ]
  },
  {
   "cell_type": "code",
   "execution_count": 53,
   "id": "6f887f74-9813-40f7-aa90-e711fb60c8b4",
   "metadata": {},
   "outputs": [
    {
     "data": {
      "image/png": "[encoded data removed]",
      "text/plain": [
       "<Figure size 600x400 with 2 Axes>"
      ]
     },
     "metadata": {},
     "output_type": "display_data"
    }
   ],
   "source": [
    "###Visualizing correlation with a heatmap\n",
    "plt.figure(figsize=(6,4))\n",
    "sns.heatmap(correlation_matrix, annot=True, cmap='coolwarm', fmt='.2f')\n",
    "plt.title(\"Correlation Matrix\")\n",
    "plt.show()"
   ]
  },
  {
   "cell_type": "code",
   "execution_count": null,
   "id": "fcbafd3c-2e37-4d0c-895d-7e0e524ddf95",
   "metadata": {},
   "outputs": [],
   "source": []
  }
 ],
 "metadata": {
  "kernelspec": {
   "display_name": "Python 3 (ipykernel)",
   "language": "python",
   "name": "python3"
  },
  "language_info": {
   "codemirror_mode": {
    "name": "ipython",
    "version": 3
   },
   "file_extension": ".py",
   "mimetype": "text/x-python",
   "name": "python",
   "nbconvert_exporter": "python",
   "pygments_lexer": "ipython3",
   "version": "3.12.7"
  }
 },
 "nbformat": 4,
 "nbformat_minor": 5
}
